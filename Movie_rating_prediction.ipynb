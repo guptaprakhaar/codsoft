{
  "nbformat": 4,
  "nbformat_minor": 0,
  "metadata": {
    "colab": {
      "provenance": []
    },
    "kernelspec": {
      "name": "python3",
      "display_name": "Python 3"
    },
    "language_info": {
      "name": "python"
    }
  },
  "cells": [
    {
      "cell_type": "code",
      "source": [
        "import pandas as pd\n",
        "from sklearn.feature_extraction.text import TfidfVectorizer\n",
        "from sklearn.linear_model import LinearRegression\n",
        "from sklearn.model_selection import train_test_split\n",
        "from sklearn.metrics import mean_squared_error, r2_score\n",
        "\n",
        "\n",
        "df = pd.read_csv('/content/drive/MyDrive/IMDb Movies India.csv', encoding='latin1')\n",
        "df = df[['Name', 'Genre', 'Rating']].dropna()\n",
        "df['Rating'] = pd.to_numeric(df['Rating'], errors='coerce')\n",
        "df = df.dropna(subset=['Rating']).reset_index(drop=True)\n",
        "\n",
        "tfidf = TfidfVectorizer(stop_words='english')\n",
        "X = tfidf.fit_transform(df['Genre'])\n",
        "\n",
        "\n",
        "y = df['Rating']\n",
        "\n",
        "\n",
        "X_train, X_test, y_train, y_test = train_test_split(X, y, test_size=0.2, random_state=42)\n",
        "\n",
        "\n",
        "model = LinearRegression()\n",
        "model.fit(X_train, y_train)\n",
        "\n",
        "\n",
        "y_pred = model.predict(X_test)\n",
        "print(f\"RMSE: {mean_squared_error(y_test, y_pred):.2f}\")\n",
        "print(f\"R² Score: {r2_score(y_test, y_pred):.2f}\")\n",
        "\n",
        "def predict_rating(movie_name):\n",
        "    row = df[df['Name'].str.lower() == movie_name.lower()]\n",
        "    if row.empty:\n",
        "        return f\"'{movie_name}' not found in dataset.\"\n",
        "\n",
        "    genre_text = row.iloc[0]['Genre']\n",
        "    genre_vector = tfidf.transform([genre_text])\n",
        "    predicted_rating = model.predict(genre_vector)[0]\n",
        "\n",
        "    return f\"Predicted rating for '{movie_name}': {predicted_rating:.2f}\"\n",
        "\n",
        "print(predict_rating(\"Krrish\"))"
      ],
      "metadata": {
        "colab": {
          "base_uri": "https://localhost:8080/"
        },
        "id": "YHdP1Im5n9nz",
        "outputId": "c9cd465f-9a45-442f-9026-471507c5a251"
      },
      "execution_count": null,
      "outputs": [
        {
          "output_type": "stream",
          "name": "stdout",
          "text": [
            "RMSE: 1.57\n",
            "R² Score: 0.13\n",
            "Predicted rating for 'Krrish': 5.35\n"
          ]
        }
      ]
    },
    {
      "cell_type": "code",
      "source": [
        "!pip install gradio --quie"
      ],
      "metadata": {
        "id": "TF-VFygmrB6F"
      },
      "execution_count": null,
      "outputs": []
    },
    {
      "cell_type": "code",
      "source": [
        "import gradio as gr\n",
        "\n",
        "def gradio_predict(movie_name):\n",
        "    return predict_rating(movie_name)\n",
        "\n",
        "interface = gr.Interface(\n",
        "    fn=gradio_predict,\n",
        "    inputs=gr.Textbox(lines=1, placeholder=\"Enter movie name...\", label=\"Movie Title\"),\n",
        "    outputs=gr.Textbox(label=\"Predicted Rating\"),\n",
        "    title=\"🎬 Movie Rating Predictor\",\n",
        "    description=\"Enter the name of a movie to predict its rating based on its genre using Linear Regression.\",\n",
        "    examples=[\"Krrish\", \"3 Idiots\", \"Dangal\"]\n",
        ")\n",
        "\n",
        "interface.launch()\n",
        "\n"
      ],
      "metadata": {
        "colab": {
          "base_uri": "https://localhost:8080/",
          "height": 645
        },
        "id": "IJHgXcqqrQdr",
        "outputId": "55e3e052-248f-4654-d541-36847be53671"
      },
      "execution_count": null,
      "outputs": [
        {
          "output_type": "stream",
          "name": "stdout",
          "text": [
            "It looks like you are running Gradio on a hosted Jupyter notebook, which requires `share=True`. Automatically setting `share=True` (you can turn this off by setting `share=False` in `launch()` explicitly).\n",
            "\n",
            "Colab notebook detected. To show errors in colab notebook, set debug=True in launch()\n",
            "* Running on public URL: https://299e0d140c81c7ede3.gradio.live\n",
            "\n",
            "This share link expires in 1 week. For free permanent hosting and GPU upgrades, run `gradio deploy` from the terminal in the working directory to deploy to Hugging Face Spaces (https://huggingface.co/spaces)\n"
          ]
        },
        {
          "output_type": "display_data",
          "data": {
            "text/plain": [
              "<IPython.core.display.HTML object>"
            ],
            "text/html": [
              "<div><iframe src=\"https://299e0d140c81c7ede3.gradio.live\" width=\"100%\" height=\"500\" allow=\"autoplay; camera; microphone; clipboard-read; clipboard-write;\" frameborder=\"0\" allowfullscreen></iframe></div>"
            ]
          },
          "metadata": {}
        },
        {
          "output_type": "execute_result",
          "data": {
            "text/plain": []
          },
          "metadata": {},
          "execution_count": 23
        }
      ]
    }
  ]
}