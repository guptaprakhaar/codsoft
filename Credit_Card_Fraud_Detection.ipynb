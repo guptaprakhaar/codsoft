{
  "nbformat": 4,
  "nbformat_minor": 0,
  "metadata": {
    "colab": {
      "provenance": []
    },
    "kernelspec": {
      "name": "python3",
      "display_name": "Python 3"
    },
    "language_info": {
      "name": "python"
    }
  },
  "cells": [
    {
      "cell_type": "code",
      "execution_count": null,
      "metadata": {
        "colab": {
          "base_uri": "https://localhost:8080/",
          "height": 645
        },
        "id": "3QY6Bm9zWyGz",
        "outputId": "3cdc343e-da8a-4c85-a6b2-5b5d575900af"
      },
      "outputs": [
        {
          "output_type": "stream",
          "name": "stdout",
          "text": [
            "It looks like you are running Gradio on a hosted Jupyter notebook, which requires `share=True`. Automatically setting `share=True` (you can turn this off by setting `share=False` in `launch()` explicitly).\n",
            "\n",
            "Colab notebook detected. To show errors in colab notebook, set debug=True in launch()\n",
            "* Running on public URL: https://bc9ca9eaf4fbd9c397.gradio.live\n",
            "\n",
            "This share link expires in 1 week. For free permanent hosting and GPU upgrades, run `gradio deploy` from the terminal in the working directory to deploy to Hugging Face Spaces (https://huggingface.co/spaces)\n"
          ]
        },
        {
          "output_type": "display_data",
          "data": {
            "text/plain": [
              "<IPython.core.display.HTML object>"
            ],
            "text/html": [
              "<div><iframe src=\"https://bc9ca9eaf4fbd9c397.gradio.live\" width=\"100%\" height=\"500\" allow=\"autoplay; camera; microphone; clipboard-read; clipboard-write;\" frameborder=\"0\" allowfullscreen></iframe></div>"
            ]
          },
          "metadata": {}
        },
        {
          "output_type": "execute_result",
          "data": {
            "text/plain": []
          },
          "metadata": {},
          "execution_count": 6
        }
      ],
      "source": [
        "import pandas as pd\n",
        "from sklearn.model_selection import train_test_split\n",
        "from sklearn.preprocessing import StandardScaler\n",
        "from sklearn.linear_model import LogisticRegression\n",
        "from sklearn.ensemble import RandomForestClassifier\n",
        "from sklearn.metrics import classification_report\n",
        "import gradio as gr\n",
        "\n",
        "def fraud_detection(file):\n",
        "\n",
        "    df = pd.read_csv(file.name)\n",
        "\n",
        "\n",
        "    scaler = StandardScaler()\n",
        "    df['Amount'] = scaler.fit_transform(df[['Amount']])\n",
        "    df['Time'] = scaler.fit_transform(df[['Time']])\n",
        "\n",
        "\n",
        "    df_fraud = df[df['Class'] == 1]\n",
        "    df_genuine = df[df['Class'] == 0].sample(n=len(df_fraud), random_state=42)\n",
        "    df_balanced = pd.concat([df_fraud, df_genuine])\n",
        "\n",
        "\n",
        "    X = df_balanced.drop('Class', axis=1)\n",
        "    y = df_balanced['Class']\n",
        "\n",
        "\n",
        "    X_train, X_test, y_train, y_test = train_test_split(\n",
        "        X, y, test_size=0.3, random_state=42, stratify=y\n",
        "    )\n",
        "\n",
        "\n",
        "    lr = LogisticRegression(max_iter=1000)\n",
        "    lr.fit(X_train, y_train)\n",
        "    y_pred_lr = lr.predict(X_test)\n",
        "    lr_report = classification_report(y_test, y_pred_lr)\n",
        "\n",
        "\n",
        "    rf = RandomForestClassifier(n_estimators=100, random_state=42)\n",
        "    rf.fit(X_train, y_train)\n",
        "    y_pred_rf = rf.predict(X_test)\n",
        "    rf_report = classification_report(y_test, y_pred_rf)\n",
        "\n",
        "    return f\"📊 Logistic Regression:\\n{lr_report}\\n\\n🌲 Random Forest:\\n{rf_report}\"\n",
        "\n",
        "\n",
        "interface = gr.Interface(\n",
        "    fn=fraud_detection,\n",
        "    inputs=gr.File(label=\"Upload creditcard.csv\"),\n",
        "    outputs=gr.Textbox(label=\"Model Evaluation Reports\"),\n",
        "    title=\"Credit Card Fraud Detection\",\n",
        "    description=\"Upload a CSV file with credit card transactions to detect fraudulent ones using ML models.\"\n",
        ")\n",
        "\n",
        "interface.launch()\n"
      ]
    }
  ]
}